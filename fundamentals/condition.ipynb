{
 "cells": [
  {
   "cell_type": "code",
   "execution_count": 5,
   "metadata": {},
   "outputs": [],
   "source": [
    "import numpy\n",
    "import pandas"
   ]
  },
  {
   "cell_type": "code",
   "execution_count": null,
   "metadata": {},
   "outputs": [],
   "source": [
    "data = str(input(\"enter the value:🍺\"))\n",
    "print(data)"
   ]
  },
  {
   "cell_type": "code",
   "execution_count": null,
   "metadata": {},
   "outputs": [],
   "source": [
    "if (data == \"set\"):\n",
    "    print(\"set\")"
   ]
  },
  {
   "cell_type": "code",
   "execution_count": null,
   "metadata": {},
   "outputs": [],
   "source": [
    "if (data == \"set\"):\n",
    "    print(\"set\")\n",
    "else:\n",
    "    print(\"no set\")"
   ]
  },
  {
   "cell_type": "code",
   "execution_count": null,
   "metadata": {},
   "outputs": [],
   "source": [
    "if (data == \"data1\"):\n",
    "    x=\"hello\"\n",
    "    \n",
    "elif (data == \"data2\"):\n",
    "    x=50\n",
    "\n",
    "elif (data == \"data3\"):\n",
    "    x=69.9\n",
    "\n",
    "elif (data == \"data4\"):\n",
    "    x=3j\n",
    "\n",
    "elif (data == \"data5\"):\n",
    "    x=[\"f1\",\"f2\",\"f3\"]\n",
    "\n",
    "elif (data == \"data6\"):\n",
    "    x={\"f1\",\"f2\",\"f3\"}\n",
    "\n",
    "elif (data == \"data7\"):\n",
    "    x=(\"f1\",\"f2\",\"f3\")\n",
    "\n",
    "elif (data == \"data8\"):\n",
    "    x=True\n",
    "\n",
    "elif (data == \"data9\"):\n",
    "    x=b\"hello\"\n",
    "\n",
    "\n",
    "print(x)"
   ]
  }
 ],
 "metadata": {
  "kernelspec": {
   "display_name": "Python 3",
   "language": "python",
   "name": "python3"
  },
  "language_info": {
   "codemirror_mode": {
    "name": "ipython",
    "version": 3
   },
   "file_extension": ".py",
   "mimetype": "text/x-python",
   "name": "python",
   "nbconvert_exporter": "python",
   "pygments_lexer": "ipython3",
   "version": "3.12.4"
  }
 },
 "nbformat": 4,
 "nbformat_minor": 2
}
